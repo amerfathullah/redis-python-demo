{
 "cells": [
  {
   "cell_type": "code",
   "execution_count": null,
   "source": [
    "import redis, json\r\n",
    "from pymongo import MongoClient\r\n",
    "from timeit import default_timer as timer"
   ],
   "outputs": [],
   "metadata": {}
  },
  {
   "cell_type": "code",
   "execution_count": null,
   "source": [
    "r = redis.Redis(host='localhost', port=6379)\r\n",
    "cluster = MongoClient(\"\")\r\n",
    "db = cluster[\"test\"]\r\n",
    "collection = db[\"test\"]"
   ],
   "outputs": [],
   "metadata": {}
  },
  {
   "cell_type": "code",
   "execution_count": null,
   "source": [
    "# GET name from MongoDB database\r\n",
    "start_time = timer()\r\n",
    "results = collection.find({\"name\": \"Kyle\"})\r\n",
    "time_taken = timer() - start_time\r\n",
    "for result in results:\r\n",
    "    print(result[\"name\"])\r\n",
    "print(time_taken*1000000, \" us\")"
   ],
   "outputs": [],
   "metadata": {}
  },
  {
   "cell_type": "code",
   "execution_count": null,
   "source": [
    "# GET name from Redis cache\r\n",
    "name = r.get('name')\r\n",
    "\r\n",
    "# Cache Miss\r\n",
    "if name is None:\r\n",
    "    print(\"Could not find name in cache, retrieving from SQL database\")\r\n",
    "    start_time = timer()\r\n",
    "    results = collection.find({\"name\": \"Kyle\"})\r\n",
    "    time_taken = timer() - start_time\r\n",
    "    print(time_taken*1000000, \" us\")\r\n",
    "    for result in results:\r\n",
    "        print(result[\"name\"])\r\n",
    "        r.set('name', json.dumps(result[\"name\"]))\r\n",
    "\r\n",
    "# Cache Hit\r\n",
    "else:\r\n",
    "    print(\"Found in cache, serving from redis\")\r\n",
    "    start_time = timer()\r\n",
    "    print(name)\r\n",
    "    time_taken = timer() - start_time\r\n",
    "    print(time_taken*1000000, \" us\")"
   ],
   "outputs": [],
   "metadata": {}
  }
 ],
 "metadata": {
  "orig_nbformat": 4,
  "language_info": {
   "name": "python",
   "version": "3.8.10",
   "mimetype": "text/x-python",
   "codemirror_mode": {
    "name": "ipython",
    "version": 3
   },
   "pygments_lexer": "ipython3",
   "nbconvert_exporter": "python",
   "file_extension": ".py"
  },
  "kernelspec": {
   "name": "python3",
   "display_name": "Python 3.8.10 64-bit"
  },
  "interpreter": {
   "hash": "2412817fd4d00507442cde8eca77db92d55ddca050291d5e63640488f15733fc"
  }
 },
 "nbformat": 4,
 "nbformat_minor": 2
}